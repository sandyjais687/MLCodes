{
 "cells": [
  {
   "cell_type": "code",
   "execution_count": 1,
   "metadata": {},
   "outputs": [],
   "source": [
    "import pandas as pd\n",
    "import seaborn as sns\n",
    "import matplotlib.pyplot as plt\n",
    "from nltk.corpus import stopwords\n",
    "import re\n",
    "import nltk\n",
    "from nltk.tokenize import word_tokenize\n",
    "from bs4 import BeautifulSoup\n",
    "from sklearn.feature_extraction.text import TfidfVectorizer\n",
    "from sklearn.model_selection import train_test_split\n",
    "from sklearn.linear_model import LogisticRegression\n",
    "from sklearn.tree import DecisionTreeClassifier\n",
    "from sklearn.ensemble import RandomForestClassifier\n",
    "from sklearn.neighbors import KNeighborsClassifier\n",
    "from sklearn.discriminant_analysis import LinearDiscriminantAnalysis\n",
    "from sklearn.naive_bayes import GaussianNB\n",
    "from sklearn.metrics import accuracy_score, classification_report"
   ]
  },
  {
   "cell_type": "code",
   "execution_count": 2,
   "metadata": {},
   "outputs": [],
   "source": [
    "stack_data = pd.read_csv(\"stack-overflow-data.csv\")"
   ]
  },
  {
   "cell_type": "code",
   "execution_count": 3,
   "metadata": {},
   "outputs": [
    {
     "data": {
      "text/html": [
       "<div>\n",
       "<style scoped>\n",
       "    .dataframe tbody tr th:only-of-type {\n",
       "        vertical-align: middle;\n",
       "    }\n",
       "\n",
       "    .dataframe tbody tr th {\n",
       "        vertical-align: top;\n",
       "    }\n",
       "\n",
       "    .dataframe thead th {\n",
       "        text-align: right;\n",
       "    }\n",
       "</style>\n",
       "<table border=\"1\" class=\"dataframe\">\n",
       "  <thead>\n",
       "    <tr style=\"text-align: right;\">\n",
       "      <th></th>\n",
       "      <th>post</th>\n",
       "      <th>tags</th>\n",
       "    </tr>\n",
       "  </thead>\n",
       "  <tbody>\n",
       "    <tr>\n",
       "      <th>0</th>\n",
       "      <td>what is causing this behavior  in our c# datet...</td>\n",
       "      <td>c#</td>\n",
       "    </tr>\n",
       "    <tr>\n",
       "      <th>1</th>\n",
       "      <td>have dynamic html load as if it was in an ifra...</td>\n",
       "      <td>asp.net</td>\n",
       "    </tr>\n",
       "    <tr>\n",
       "      <th>2</th>\n",
       "      <td>how to convert a float value in to min:sec  i ...</td>\n",
       "      <td>objective-c</td>\n",
       "    </tr>\n",
       "    <tr>\n",
       "      <th>3</th>\n",
       "      <td>.net framework 4 redistributable  just wonderi...</td>\n",
       "      <td>.net</td>\n",
       "    </tr>\n",
       "    <tr>\n",
       "      <th>4</th>\n",
       "      <td>trying to calculate and print the mean and its...</td>\n",
       "      <td>python</td>\n",
       "    </tr>\n",
       "  </tbody>\n",
       "</table>\n",
       "</div>"
      ],
      "text/plain": [
       "                                                post         tags\n",
       "0  what is causing this behavior  in our c# datet...           c#\n",
       "1  have dynamic html load as if it was in an ifra...      asp.net\n",
       "2  how to convert a float value in to min:sec  i ...  objective-c\n",
       "3  .net framework 4 redistributable  just wonderi...         .net\n",
       "4  trying to calculate and print the mean and its...       python"
      ]
     },
     "execution_count": 3,
     "metadata": {},
     "output_type": "execute_result"
    }
   ],
   "source": [
    "stack_data.head()"
   ]
  },
  {
   "cell_type": "code",
   "execution_count": 4,
   "metadata": {},
   "outputs": [
    {
     "data": {
      "text/plain": [
       "'what is causing this behavior  in our c# datetime type  <pre><code>[test] public void sadness() {    var datetime = datetime.utcnow;    assert.that(datetime  is.equalto(datetime.parse(datetime.tostring()))); } </code></pre>   failed :   <pre><code> expected: 2011-10-31 06:12:44.000  but was:  2011-10-31 06:12:44.350 </code></pre>   i wish to know what is happening behind the scenes in tostring() etc to cause this behavior.    edit after seeing jon s answer :   <pre><code>[test] public void newsadness() {     var datetime = datetime.utcnow;     assert.that(datetime  is.equalto(datetime.parse(datetime.tostring( o )))); } </code></pre>   result :   <pre><code>expected: 2011-10-31 12:03:04.161 but was:  2011-10-31 06:33:04.161 </code></pre>   same result with capital and small  o  . i m reading up the docs  but still unclear.'"
      ]
     },
     "execution_count": 4,
     "metadata": {},
     "output_type": "execute_result"
    }
   ],
   "source": [
    "stack_data['post'][0]"
   ]
  },
  {
   "cell_type": "code",
   "execution_count": 5,
   "metadata": {},
   "outputs": [
    {
     "data": {
      "text/plain": [
       "'have dynamic html load as if it was in an iframe  i have an asp.net 4.0 site. users can save an entire html page into the backend database. what i want to do is load the dynamic content into a div on an existing page in a content area and have a couple of things to happen:    i do not want any of the css to affect anything outside the div  when first trying this out loading of some badly formed html would move images and other divs outside the content area around.    a lot of these html pages use the  base  tag for images and links  i want the base tag respected inside the div.    i have a solution that i am going to try which is just to use an iframe and set its url to another child page that loads the dynamic html into its own page entirely. i am just wondering if there is a better solution.'"
      ]
     },
     "execution_count": 5,
     "metadata": {},
     "output_type": "execute_result"
    }
   ],
   "source": [
    "stack_data['post'][1]"
   ]
  },
  {
   "cell_type": "code",
   "execution_count": 6,
   "metadata": {},
   "outputs": [
    {
     "data": {
      "text/plain": [
       "'how to convert a float value in to min:sec  i m trying to convert my second in min:sec. my code is:    <pre><code>- (ibaction)calcola:(id)sender  {     float grandezzakb= [[fieldgrandezza text] floatvalue];     float velocitambps= [[fieldvelocita text] floatvalue] ;     float grandezzamb= grandezzakb*1000;     float velocitakb = velocitambps*128;     float seconditotali = grandezzamb/velocitakb;     float min = seconditotali / 60;      nsstring *risultato = [nsstring stringwithformat:@ %.02f minuti   min];      [labelrisultato settext:risultato]; } </code></pre>   sorry if it isn t english but i m italian :d someone can help me  i ve already tried with the mod but it doesn t work with float :( sorry if the code isn t perfect  but i m a newbie :)'"
      ]
     },
     "execution_count": 6,
     "metadata": {},
     "output_type": "execute_result"
    }
   ],
   "source": [
    "stack_data['post'][2]"
   ]
  },
  {
   "cell_type": "markdown",
   "metadata": {},
   "source": [
    "# Understanding The variables"
   ]
  },
  {
   "cell_type": "code",
   "execution_count": 7,
   "metadata": {},
   "outputs": [
    {
     "data": {
      "text/plain": [
       "post    object\n",
       "tags    object\n",
       "dtype: object"
      ]
     },
     "execution_count": 7,
     "metadata": {},
     "output_type": "execute_result"
    }
   ],
   "source": [
    "stack_data.dtypes"
   ]
  },
  {
   "cell_type": "code",
   "execution_count": 8,
   "metadata": {},
   "outputs": [
    {
     "data": {
      "text/plain": [
       "(40000, 2)"
      ]
     },
     "execution_count": 8,
     "metadata": {},
     "output_type": "execute_result"
    }
   ],
   "source": [
    "stack_data.shape"
   ]
  },
  {
   "cell_type": "markdown",
   "metadata": {},
   "source": [
    "# Understanding Target Variables"
   ]
  },
  {
   "cell_type": "code",
   "execution_count": 9,
   "metadata": {},
   "outputs": [
    {
     "data": {
      "text/plain": [
       "array(['c#', 'asp.net', 'objective-c', '.net', 'python', 'angularjs',\n",
       "       'iphone', 'ruby-on-rails', 'ios', 'c', 'sql', 'java', 'jquery',\n",
       "       'css', 'c++', 'php', 'android', 'mysql', 'javascript', 'html'],\n",
       "      dtype=object)"
      ]
     },
     "execution_count": 9,
     "metadata": {},
     "output_type": "execute_result"
    }
   ],
   "source": [
    "stack_data['tags'].unique()"
   ]
  },
  {
   "cell_type": "markdown",
   "metadata": {},
   "source": [
    "# Checking for NULL values"
   ]
  },
  {
   "cell_type": "code",
   "execution_count": 10,
   "metadata": {},
   "outputs": [
    {
     "data": {
      "text/plain": [
       "post    False\n",
       "tags    False\n",
       "dtype: bool"
      ]
     },
     "execution_count": 10,
     "metadata": {},
     "output_type": "execute_result"
    }
   ],
   "source": [
    "stack_data.isnull().any()"
   ]
  },
  {
   "cell_type": "markdown",
   "metadata": {},
   "source": [
    "# Countplot of Target Variable (Tags)"
   ]
  },
  {
   "cell_type": "code",
   "execution_count": 11,
   "metadata": {},
   "outputs": [
    {
     "data": {
      "image/png": "[encoded data removed]",
      "text/plain": [
       "<Figure size 1368x432 with 1 Axes>"
      ]
     },
     "metadata": {
      "needs_background": "light"
     },
     "output_type": "display_data"
    }
   ],
   "source": [
    "plt.figure(figsize=(19,6)) \n",
    "sns.countplot(stack_data.tags)\n",
    "plt.show()"
   ]
  },
  {
   "cell_type": "markdown",
   "metadata": {},
   "source": [
    "# Distribution Plot"
   ]
  },
  {
   "cell_type": "code",
   "execution_count": 12,
   "metadata": {},
   "outputs": [
    {
     "data": {
      "text/plain": [
       "0          833\n",
       "1          804\n",
       "2          755\n",
       "3          349\n",
       "4         1290\n",
       "5          309\n",
       "6          495\n",
       "7          424\n",
       "8         2022\n",
       "9         1279\n",
       "10         995\n",
       "11         344\n",
       "12         389\n",
       "13        1338\n",
       "14         349\n",
       "15         228\n",
       "16          62\n",
       "17        2594\n",
       "18         336\n",
       "19        1037\n",
       "20        2731\n",
       "21         448\n",
       "22        2620\n",
       "23         517\n",
       "24         544\n",
       "25        2275\n",
       "26         849\n",
       "27         800\n",
       "28         570\n",
       "29        1207\n",
       "         ...  \n",
       "39970      303\n",
       "39971      904\n",
       "39972      525\n",
       "39973      355\n",
       "39974     1380\n",
       "39975      316\n",
       "39976      422\n",
       "39977     1707\n",
       "39978      517\n",
       "39979     1333\n",
       "39980      564\n",
       "39981      387\n",
       "39982      697\n",
       "39983     1388\n",
       "39984     2260\n",
       "39985     1299\n",
       "39986    13603\n",
       "39987      286\n",
       "39988      703\n",
       "39989      612\n",
       "39990     6514\n",
       "39991      603\n",
       "39992     1005\n",
       "39993     1372\n",
       "39994      530\n",
       "39995     1004\n",
       "39996      368\n",
       "39997      793\n",
       "39998     6339\n",
       "39999     6153\n",
       "Name: post_length, Length: 40000, dtype: int64"
      ]
     },
     "execution_count": 12,
     "metadata": {},
     "output_type": "execute_result"
    }
   ],
   "source": [
    "stack_data['post_length'] = stack_data['post'].str.len()\n",
    "stack_data['post_length']"
   ]
  },
  {
   "cell_type": "code",
   "execution_count": 13,
   "metadata": {},
   "outputs": [
    {
     "data": {
      "image/png": "[encoded data removed]",
      "text/plain": [
       "<Figure size 432x288 with 1 Axes>"
      ]
     },
     "metadata": {
      "needs_background": "light"
     },
     "output_type": "display_data"
    }
   ],
   "source": [
    "sns.distplot(stack_data['post_length']).set_title('Post length distribution');\n"
   ]
  },
  {
   "cell_type": "markdown",
   "metadata": {},
   "source": [
    "# Feature Engineering"
   ]
  },
  {
   "cell_type": "code",
   "execution_count": 14,
   "metadata": {},
   "outputs": [],
   "source": [
    "REPLACE_BY_SPACE_RE = re.compile('[/(){}\\[\\]\\|@,;]')\n",
    "BAD_SYMBOLS_RE = re.compile('[^a-z #+_]')\n",
    "STOPWORDS = set(stopwords.words('english'))\n",
    "\n",
    "def process_text(text):\n",
    "    \n",
    "    text = BeautifulSoup(text, \"lxml\").text \n",
    "    text = text.lower() \n",
    "    text = REPLACE_BY_SPACE_RE.sub(' ', text) \n",
    "    text = BAD_SYMBOLS_RE.sub('', text) \n",
    "    text = ' '.join(word for word in text.split() if word not in STOPWORDS) \n",
    "    return text"
   ]
  },
  {
   "cell_type": "code",
   "execution_count": 15,
   "metadata": {},
   "outputs": [],
   "source": [
    "stack_data['post_parsed'] = stack_data['post'].apply(process_text)"
   ]
  },
  {
   "cell_type": "markdown",
   "metadata": {},
   "source": [
    "# Original Text"
   ]
  },
  {
   "cell_type": "code",
   "execution_count": 16,
   "metadata": {},
   "outputs": [
    {
     "data": {
      "text/plain": [
       "'what is causing this behavior  in our c# datetime type  <pre><code>[test] public void sadness() {    var datetime = datetime.utcnow;    assert.that(datetime  is.equalto(datetime.parse(datetime.tostring()))); } </code></pre>   failed :   <pre><code> expected: 2011-10-31 06:12:44.000  but was:  2011-10-31 06:12:44.350 </code></pre>   i wish to know what is happening behind the scenes in tostring() etc to cause this behavior.    edit after seeing jon s answer :   <pre><code>[test] public void newsadness() {     var datetime = datetime.utcnow;     assert.that(datetime  is.equalto(datetime.parse(datetime.tostring( o )))); } </code></pre>   result :   <pre><code>expected: 2011-10-31 12:03:04.161 but was:  2011-10-31 06:33:04.161 </code></pre>   same result with capital and small  o  . i m reading up the docs  but still unclear.'"
      ]
     },
     "execution_count": 16,
     "metadata": {},
     "output_type": "execute_result"
    }
   ],
   "source": [
    "stack_data['post'][0]"
   ]
  },
  {
   "cell_type": "markdown",
   "metadata": {},
   "source": [
    "# Preprocessed Text"
   ]
  },
  {
   "cell_type": "code",
   "execution_count": 17,
   "metadata": {},
   "outputs": [
    {
     "data": {
      "text/plain": [
       "'causing behavior c# datetime type test public void sadness var datetime datetimeutcnow assertthat datetime isequalto datetimeparse datetimetostring failed expected wish know happening behind scenes tostring etc cause behavior edit seeing jon answer test public void newsadness var datetime datetimeutcnow assertthat datetime isequalto datetimeparse datetimetostring result expected result capital small reading docs still unclear'"
      ]
     },
     "execution_count": 17,
     "metadata": {},
     "output_type": "execute_result"
    }
   ],
   "source": [
    "stack_data['post_parsed'][0]"
   ]
  },
  {
   "cell_type": "code",
   "execution_count": 18,
   "metadata": {},
   "outputs": [
    {
     "data": {
      "text/html": [
       "<div>\n",
       "<style scoped>\n",
       "    .dataframe tbody tr th:only-of-type {\n",
       "        vertical-align: middle;\n",
       "    }\n",
       "\n",
       "    .dataframe tbody tr th {\n",
       "        vertical-align: top;\n",
       "    }\n",
       "\n",
       "    .dataframe thead th {\n",
       "        text-align: right;\n",
       "    }\n",
       "</style>\n",
       "<table border=\"1\" class=\"dataframe\">\n",
       "  <thead>\n",
       "    <tr style=\"text-align: right;\">\n",
       "      <th></th>\n",
       "      <th>post</th>\n",
       "      <th>tags</th>\n",
       "      <th>post_length</th>\n",
       "      <th>post_parsed</th>\n",
       "    </tr>\n",
       "  </thead>\n",
       "  <tbody>\n",
       "    <tr>\n",
       "      <th>0</th>\n",
       "      <td>what is causing this behavior  in our c# datet...</td>\n",
       "      <td>c#</td>\n",
       "      <td>833</td>\n",
       "      <td>causing behavior c# datetime type test public ...</td>\n",
       "    </tr>\n",
       "    <tr>\n",
       "      <th>1</th>\n",
       "      <td>have dynamic html load as if it was in an ifra...</td>\n",
       "      <td>asp.net</td>\n",
       "      <td>804</td>\n",
       "      <td>dynamic html load iframe aspnet site users sav...</td>\n",
       "    </tr>\n",
       "    <tr>\n",
       "      <th>2</th>\n",
       "      <td>how to convert a float value in to min:sec  i ...</td>\n",
       "      <td>objective-c</td>\n",
       "      <td>755</td>\n",
       "      <td>convert float value minsec trying convert seco...</td>\n",
       "    </tr>\n",
       "    <tr>\n",
       "      <th>3</th>\n",
       "      <td>.net framework 4 redistributable  just wonderi...</td>\n",
       "      <td>.net</td>\n",
       "      <td>349</td>\n",
       "      <td>net framework redistributable wondering get ne...</td>\n",
       "    </tr>\n",
       "    <tr>\n",
       "      <th>4</th>\n",
       "      <td>trying to calculate and print the mean and its...</td>\n",
       "      <td>python</td>\n",
       "      <td>1290</td>\n",
       "      <td>trying calculate print mean returning rather n...</td>\n",
       "    </tr>\n",
       "  </tbody>\n",
       "</table>\n",
       "</div>"
      ],
      "text/plain": [
       "                                                post         tags  \\\n",
       "0  what is causing this behavior  in our c# datet...           c#   \n",
       "1  have dynamic html load as if it was in an ifra...      asp.net   \n",
       "2  how to convert a float value in to min:sec  i ...  objective-c   \n",
       "3  .net framework 4 redistributable  just wonderi...         .net   \n",
       "4  trying to calculate and print the mean and its...       python   \n",
       "\n",
       "   post_length                                        post_parsed  \n",
       "0          833  causing behavior c# datetime type test public ...  \n",
       "1          804  dynamic html load iframe aspnet site users sav...  \n",
       "2          755  convert float value minsec trying convert seco...  \n",
       "3          349  net framework redistributable wondering get ne...  \n",
       "4         1290  trying calculate print mean returning rather n...  "
      ]
     },
     "execution_count": 18,
     "metadata": {},
     "output_type": "execute_result"
    }
   ],
   "source": [
    "stack_data.head()"
   ]
  },
  {
   "cell_type": "markdown",
   "metadata": {},
   "source": [
    "# Label Encoding"
   ]
  },
  {
   "cell_type": "code",
   "execution_count": 19,
   "metadata": {},
   "outputs": [],
   "source": [
    "from sklearn import preprocessing \n",
    "label_encoder = preprocessing.LabelEncoder() \n",
    "stack_data['Tags_target']= label_encoder.fit_transform(stack_data['tags']) "
   ]
  },
  {
   "cell_type": "code",
   "execution_count": 20,
   "metadata": {},
   "outputs": [
    {
     "data": {
      "text/plain": [
       "array([ 5,  3, 15,  0, 17,  2, 10, 18,  9,  4, 19, 11, 13,  7,  6, 16,  1,\n",
       "       14, 12,  8], dtype=int64)"
      ]
     },
     "execution_count": 20,
     "metadata": {},
     "output_type": "execute_result"
    }
   ],
   "source": [
    "stack_data.Tags_target.unique()"
   ]
  },
  {
   "cell_type": "code",
   "execution_count": 21,
   "metadata": {},
   "outputs": [
    {
     "data": {
      "text/html": [
       "<div>\n",
       "<style scoped>\n",
       "    .dataframe tbody tr th:only-of-type {\n",
       "        vertical-align: middle;\n",
       "    }\n",
       "\n",
       "    .dataframe tbody tr th {\n",
       "        vertical-align: top;\n",
       "    }\n",
       "\n",
       "    .dataframe thead th {\n",
       "        text-align: right;\n",
       "    }\n",
       "</style>\n",
       "<table border=\"1\" class=\"dataframe\">\n",
       "  <thead>\n",
       "    <tr style=\"text-align: right;\">\n",
       "      <th></th>\n",
       "      <th>post</th>\n",
       "      <th>tags</th>\n",
       "      <th>post_length</th>\n",
       "      <th>post_parsed</th>\n",
       "      <th>Tags_target</th>\n",
       "    </tr>\n",
       "  </thead>\n",
       "  <tbody>\n",
       "    <tr>\n",
       "      <th>0</th>\n",
       "      <td>what is causing this behavior  in our c# datet...</td>\n",
       "      <td>c#</td>\n",
       "      <td>833</td>\n",
       "      <td>causing behavior c# datetime type test public ...</td>\n",
       "      <td>5</td>\n",
       "    </tr>\n",
       "    <tr>\n",
       "      <th>1</th>\n",
       "      <td>have dynamic html load as if it was in an ifra...</td>\n",
       "      <td>asp.net</td>\n",
       "      <td>804</td>\n",
       "      <td>dynamic html load iframe aspnet site users sav...</td>\n",
       "      <td>3</td>\n",
       "    </tr>\n",
       "    <tr>\n",
       "      <th>2</th>\n",
       "      <td>how to convert a float value in to min:sec  i ...</td>\n",
       "      <td>objective-c</td>\n",
       "      <td>755</td>\n",
       "      <td>convert float value minsec trying convert seco...</td>\n",
       "      <td>15</td>\n",
       "    </tr>\n",
       "    <tr>\n",
       "      <th>3</th>\n",
       "      <td>.net framework 4 redistributable  just wonderi...</td>\n",
       "      <td>.net</td>\n",
       "      <td>349</td>\n",
       "      <td>net framework redistributable wondering get ne...</td>\n",
       "      <td>0</td>\n",
       "    </tr>\n",
       "    <tr>\n",
       "      <th>4</th>\n",
       "      <td>trying to calculate and print the mean and its...</td>\n",
       "      <td>python</td>\n",
       "      <td>1290</td>\n",
       "      <td>trying calculate print mean returning rather n...</td>\n",
       "      <td>17</td>\n",
       "    </tr>\n",
       "  </tbody>\n",
       "</table>\n",
       "</div>"
      ],
      "text/plain": [
       "                                                post         tags  \\\n",
       "0  what is causing this behavior  in our c# datet...           c#   \n",
       "1  have dynamic html load as if it was in an ifra...      asp.net   \n",
       "2  how to convert a float value in to min:sec  i ...  objective-c   \n",
       "3  .net framework 4 redistributable  just wonderi...         .net   \n",
       "4  trying to calculate and print the mean and its...       python   \n",
       "\n",
       "   post_length                                        post_parsed  Tags_target  \n",
       "0          833  causing behavior c# datetime type test public ...            5  \n",
       "1          804  dynamic html load iframe aspnet site users sav...            3  \n",
       "2          755  convert float value minsec trying convert seco...           15  \n",
       "3          349  net framework redistributable wondering get ne...            0  \n",
       "4         1290  trying calculate print mean returning rather n...           17  "
      ]
     },
     "execution_count": 21,
     "metadata": {},
     "output_type": "execute_result"
    }
   ],
   "source": [
    "stack_data.head()"
   ]
  },
  {
   "cell_type": "markdown",
   "metadata": {},
   "source": [
    "# Split the data in Training and testing"
   ]
  },
  {
   "cell_type": "code",
   "execution_count": 22,
   "metadata": {},
   "outputs": [],
   "source": [
    "X_train, X_test, y_train, y_test = train_test_split(stack_data['post_parsed'], \n",
    "                                                    stack_data['Tags_target'], \n",
    "                                                    test_size=0.2, \n",
    "                                                    random_state=8)"
   ]
  },
  {
   "cell_type": "code",
   "execution_count": null,
   "metadata": {},
   "outputs": [],
   "source": []
  },
  {
   "cell_type": "code",
   "execution_count": 23,
   "metadata": {},
   "outputs": [],
   "source": [
    "ngram_range = (1,2)\n",
    "min_df = 10\n",
    "max_df = 1.\n",
    "max_features = 300"
   ]
  },
  {
   "cell_type": "code",
   "execution_count": 24,
   "metadata": {},
   "outputs": [
    {
     "name": "stdout",
     "output_type": "stream",
     "text": [
      "(32000, 300)\n",
      "(8000, 300)\n"
     ]
    }
   ],
   "source": [
    "tfidf = TfidfVectorizer(encoding='utf-8',\n",
    "                        ngram_range=ngram_range,\n",
    "                        stop_words=None,\n",
    "                        lowercase=False,\n",
    "                        max_df=max_df,\n",
    "                        min_df=min_df,\n",
    "                        max_features=max_features,\n",
    "                        norm='l2',\n",
    "                        sublinear_tf=True)\n",
    "                        \n",
    "features_train = tfidf.fit_transform(X_train).toarray()\n",
    "labels_train = y_train\n",
    "print(features_train.shape)\n",
    "\n",
    "features_test = tfidf.transform(X_test).toarray()\n",
    "labels_test = y_test\n",
    "print(features_test.shape)"
   ]
  },
  {
   "cell_type": "markdown",
   "metadata": {},
   "source": [
    "# Building Models"
   ]
  },
  {
   "cell_type": "code",
   "execution_count": 25,
   "metadata": {},
   "outputs": [
    {
     "name": "stdout",
     "output_type": "stream",
     "text": [
      "Accuracy:  0.74175\n",
      "              precision    recall  f1-score   support\n",
      "\n",
      "           0       0.61      0.63      0.62       374\n",
      "           1       0.89      0.75      0.81       388\n",
      "           2       0.89      0.82      0.85       402\n",
      "           3       0.73      0.70      0.72       373\n",
      "           4       0.73      0.80      0.76       399\n",
      "           5       0.48      0.57      0.52       421\n",
      "           6       0.71      0.62      0.66       402\n",
      "           7       0.78      0.87      0.82       402\n",
      "           8       0.68      0.63      0.66       399\n",
      "           9       0.61      0.62      0.61       401\n",
      "          10       0.60      0.59      0.60       393\n",
      "          11       0.87      0.74      0.80       413\n",
      "          12       0.78      0.79      0.79       394\n",
      "          13       0.85      0.87      0.86       432\n",
      "          14       0.88      0.78      0.82       397\n",
      "          15       0.51      0.54      0.53       421\n",
      "          16       0.86      0.83      0.84       397\n",
      "          17       0.88      0.93      0.91       390\n",
      "          18       0.96      0.90      0.93       413\n",
      "          19       0.70      0.88      0.78       389\n",
      "\n",
      "    accuracy                           0.74      8000\n",
      "   macro avg       0.75      0.74      0.74      8000\n",
      "weighted avg       0.75      0.74      0.74      8000\n",
      "\n"
     ]
    }
   ],
   "source": [
    "from sklearn.ensemble import RandomForestClassifier\n",
    "model  = RandomForestClassifier()\n",
    "model.fit(features_train, labels_train)\n",
    "model_predictions = model.predict(features_test)\n",
    "print('Accuracy: ', accuracy_score(labels_test, model_predictions))\n",
    "print(classification_report(labels_test, model_predictions))"
   ]
  },
  {
   "cell_type": "code",
   "execution_count": 26,
   "metadata": {},
   "outputs": [
    {
     "name": "stdout",
     "output_type": "stream",
     "text": [
      "Accuracy:  0.74925\n",
      "              precision    recall  f1-score   support\n",
      "\n",
      "           0       0.60      0.65      0.62       374\n",
      "           1       0.87      0.76      0.81       388\n",
      "           2       0.89      0.81      0.85       402\n",
      "           3       0.74      0.72      0.73       373\n",
      "           4       0.76      0.79      0.77       399\n",
      "           5       0.48      0.58      0.53       421\n",
      "           6       0.71      0.65      0.68       402\n",
      "           7       0.80      0.87      0.83       402\n",
      "           8       0.68      0.70      0.69       399\n",
      "           9       0.62      0.60      0.61       401\n",
      "          10       0.59      0.59      0.59       393\n",
      "          11       0.86      0.73      0.79       413\n",
      "          12       0.82      0.80      0.81       394\n",
      "          13       0.86      0.88      0.86       432\n",
      "          14       0.87      0.78      0.82       397\n",
      "          15       0.52      0.53      0.53       421\n",
      "          16       0.85      0.82      0.84       397\n",
      "          17       0.90      0.93      0.91       390\n",
      "          18       0.93      0.92      0.93       413\n",
      "          19       0.76      0.89      0.82       389\n",
      "\n",
      "    accuracy                           0.75      8000\n",
      "   macro avg       0.76      0.75      0.75      8000\n",
      "weighted avg       0.76      0.75      0.75      8000\n",
      "\n"
     ]
    },
    {
     "name": "stderr",
     "output_type": "stream",
     "text": [
      "C:\\ProgramData\\Anaconda3\\lib\\site-packages\\sklearn\\linear_model\\_logistic.py:940: ConvergenceWarning: lbfgs failed to converge (status=1):\n",
      "STOP: TOTAL NO. of ITERATIONS REACHED LIMIT.\n",
      "\n",
      "Increase the number of iterations (max_iter) or scale the data as shown in:\n",
      "    https://scikit-learn.org/stable/modules/preprocessing.html\n",
      "Please also refer to the documentation for alternative solver options:\n",
      "    https://scikit-learn.org/stable/modules/linear_model.html#logistic-regression\n",
      "  extra_warning_msg=_LOGISTIC_SOLVER_CONVERGENCE_MSG)\n"
     ]
    }
   ],
   "source": [
    "model = LogisticRegression()\n",
    "model.fit(features_train, labels_train)\n",
    "model_predictions = model.predict(features_test)\n",
    "print('Accuracy: ', accuracy_score(labels_test, model_predictions))\n",
    "print(classification_report(labels_test, model_predictions))"
   ]
  },
  {
   "cell_type": "code",
   "execution_count": 27,
   "metadata": {},
   "outputs": [
    {
     "name": "stdout",
     "output_type": "stream",
     "text": [
      "Accuracy:  0.49725\n",
      "              precision    recall  f1-score   support\n",
      "\n",
      "           0       0.17      0.66      0.28       374\n",
      "           1       0.67      0.54      0.60       388\n",
      "           2       0.72      0.46      0.56       402\n",
      "           3       0.63      0.45      0.52       373\n",
      "           4       0.66      0.66      0.66       399\n",
      "           5       0.44      0.24      0.31       421\n",
      "           6       0.62      0.49      0.55       402\n",
      "           7       0.67      0.69      0.68       402\n",
      "           8       0.51      0.36      0.42       399\n",
      "           9       0.57      0.36      0.44       401\n",
      "          10       0.56      0.46      0.51       393\n",
      "          11       0.20      0.69      0.31       413\n",
      "          12       0.70      0.42      0.52       394\n",
      "          13       0.71      0.44      0.54       432\n",
      "          14       0.74      0.62      0.68       397\n",
      "          15       0.56      0.27      0.36       421\n",
      "          16       0.79      0.43      0.56       397\n",
      "          17       0.89      0.57      0.69       390\n",
      "          18       0.94      0.54      0.69       413\n",
      "          19       0.70      0.63      0.67       389\n",
      "\n",
      "    accuracy                           0.50      8000\n",
      "   macro avg       0.62      0.50      0.53      8000\n",
      "weighted avg       0.62      0.50      0.53      8000\n",
      "\n"
     ]
    }
   ],
   "source": [
    "model = KNeighborsClassifier()\n",
    "model.fit(features_train, labels_train)\n",
    "model_predictions = model.predict(features_test)\n",
    "print('Accuracy: ', accuracy_score(labels_test, model_predictions))\n",
    "print(classification_report(labels_test, model_predictions))"
   ]
  },
  {
   "cell_type": "code",
   "execution_count": 28,
   "metadata": {},
   "outputs": [
    {
     "name": "stdout",
     "output_type": "stream",
     "text": [
      "Accuracy:  0.6505\n",
      "              precision    recall  f1-score   support\n",
      "\n",
      "           0       0.48      0.57      0.53       374\n",
      "           1       0.76      0.72      0.74       388\n",
      "           2       0.78      0.76      0.77       402\n",
      "           3       0.58      0.60      0.59       373\n",
      "           4       0.68      0.67      0.67       399\n",
      "           5       0.40      0.36      0.38       421\n",
      "           6       0.51      0.53      0.52       402\n",
      "           7       0.75      0.73      0.74       402\n",
      "           8       0.53      0.54      0.54       399\n",
      "           9       0.52      0.52      0.52       401\n",
      "          10       0.49      0.52      0.50       393\n",
      "          11       0.76      0.71      0.73       413\n",
      "          12       0.67      0.67      0.67       394\n",
      "          13       0.77      0.75      0.76       432\n",
      "          14       0.77      0.76      0.77       397\n",
      "          15       0.41      0.38      0.39       421\n",
      "          16       0.73      0.73      0.73       397\n",
      "          17       0.83      0.86      0.84       390\n",
      "          18       0.87      0.86      0.87       413\n",
      "          19       0.73      0.78      0.75       389\n",
      "\n",
      "    accuracy                           0.65      8000\n",
      "   macro avg       0.65      0.65      0.65      8000\n",
      "weighted avg       0.65      0.65      0.65      8000\n",
      "\n"
     ]
    }
   ],
   "source": [
    "model = DecisionTreeClassifier()\n",
    "model.fit(features_train, labels_train)\n",
    "model_predictions = model.predict(features_test)\n",
    "print('Accuracy: ', accuracy_score(labels_test, model_predictions))\n",
    "print(classification_report(labels_test, model_predictions))"
   ]
  },
  {
   "cell_type": "code",
   "execution_count": 29,
   "metadata": {},
   "outputs": [
    {
     "name": "stdout",
     "output_type": "stream",
     "text": [
      "Accuracy:  0.50125\n",
      "              precision    recall  f1-score   support\n",
      "\n",
      "           0       0.66      0.39      0.49       374\n",
      "           1       0.72      0.60      0.66       388\n",
      "           2       0.72      0.72      0.72       402\n",
      "           3       0.72      0.41      0.52       373\n",
      "           4       0.41      0.90      0.57       399\n",
      "           5       0.38      0.14      0.21       421\n",
      "           6       0.44      0.51      0.47       402\n",
      "           7       0.42      0.91      0.57       402\n",
      "           8       0.47      0.05      0.09       399\n",
      "           9       0.27      0.04      0.08       401\n",
      "          10       0.25      0.76      0.38       393\n",
      "          11       0.88      0.44      0.59       413\n",
      "          12       0.59      0.22      0.32       394\n",
      "          13       0.49      0.55      0.52       432\n",
      "          14       0.44      0.16      0.23       397\n",
      "          15       0.42      0.40      0.41       421\n",
      "          16       0.85      0.34      0.48       397\n",
      "          17       0.94      0.75      0.83       390\n",
      "          18       0.91      0.85      0.88       413\n",
      "          19       0.37      0.91      0.52       389\n",
      "\n",
      "    accuracy                           0.50      8000\n",
      "   macro avg       0.57      0.50      0.48      8000\n",
      "weighted avg       0.57      0.50      0.48      8000\n",
      "\n"
     ]
    }
   ],
   "source": [
    "model = GaussianNB()\n",
    "model.fit(features_train, labels_train)\n",
    "model_predictions = model.predict(features_test)\n",
    "print('Accuracy: ', accuracy_score(labels_test, model_predictions))\n",
    "print(classification_report(labels_test, model_predictions))"
   ]
  },
  {
   "cell_type": "code",
   "execution_count": 31,
   "metadata": {},
   "outputs": [],
   "source": [
    "stack = pd.DataFrame()"
   ]
  },
  {
   "cell_type": "code",
   "execution_count": 32,
   "metadata": {},
   "outputs": [],
   "source": [
    "stack['post'] = stack_data['post_parsed']"
   ]
  },
  {
   "cell_type": "code",
   "execution_count": 33,
   "metadata": {},
   "outputs": [],
   "source": [
    "stack['tags'] = stack_data['Tags_target']"
   ]
  },
  {
   "cell_type": "code",
   "execution_count": 34,
   "metadata": {},
   "outputs": [
    {
     "data": {
      "text/html": [
       "<div>\n",
       "<style scoped>\n",
       "    .dataframe tbody tr th:only-of-type {\n",
       "        vertical-align: middle;\n",
       "    }\n",
       "\n",
       "    .dataframe tbody tr th {\n",
       "        vertical-align: top;\n",
       "    }\n",
       "\n",
       "    .dataframe thead th {\n",
       "        text-align: right;\n",
       "    }\n",
       "</style>\n",
       "<table border=\"1\" class=\"dataframe\">\n",
       "  <thead>\n",
       "    <tr style=\"text-align: right;\">\n",
       "      <th></th>\n",
       "      <th>post</th>\n",
       "      <th>tags</th>\n",
       "    </tr>\n",
       "  </thead>\n",
       "  <tbody>\n",
       "    <tr>\n",
       "      <th>0</th>\n",
       "      <td>causing behavior c# datetime type test public ...</td>\n",
       "      <td>5</td>\n",
       "    </tr>\n",
       "    <tr>\n",
       "      <th>1</th>\n",
       "      <td>dynamic html load iframe aspnet site users sav...</td>\n",
       "      <td>3</td>\n",
       "    </tr>\n",
       "    <tr>\n",
       "      <th>2</th>\n",
       "      <td>convert float value minsec trying convert seco...</td>\n",
       "      <td>15</td>\n",
       "    </tr>\n",
       "    <tr>\n",
       "      <th>3</th>\n",
       "      <td>net framework redistributable wondering get ne...</td>\n",
       "      <td>0</td>\n",
       "    </tr>\n",
       "    <tr>\n",
       "      <th>4</th>\n",
       "      <td>trying calculate print mean returning rather n...</td>\n",
       "      <td>17</td>\n",
       "    </tr>\n",
       "  </tbody>\n",
       "</table>\n",
       "</div>"
      ],
      "text/plain": [
       "                                                post  tags\n",
       "0  causing behavior c# datetime type test public ...     5\n",
       "1  dynamic html load iframe aspnet site users sav...     3\n",
       "2  convert float value minsec trying convert seco...    15\n",
       "3  net framework redistributable wondering get ne...     0\n",
       "4  trying calculate print mean returning rather n...    17"
      ]
     },
     "execution_count": 34,
     "metadata": {},
     "output_type": "execute_result"
    }
   ],
   "source": [
    "stack.head()"
   ]
  },
  {
   "cell_type": "code",
   "execution_count": 38,
   "metadata": {},
   "outputs": [],
   "source": [
    "from tqdm import tqdm\n",
    "tqdm.pandas(desc=\"progress-bar\")\n",
    "from gensim.models import Doc2Vec\n",
    "from sklearn import utils\n",
    "import gensim\n",
    "from gensim.models.doc2vec import TaggedDocument\n",
    "import re\n",
    "\n",
    "def label_sentences(corpus, label_type):\n",
    "    \"\"\"\n",
    "    Gensim's Doc2Vec implementation requires each document/paragraph to have a label associated with it.\n",
    "    We do this by using the TaggedDocument method. The format will be \"TRAIN_i\" or \"TEST_i\" where \"i\" is\n",
    "    a dummy index of the post.\n",
    "    \"\"\"\n",
    "    labeled = []\n",
    "\n",
    "    \n",
    "    for i, v in enumerate(corpus):\n",
    "        label = label_type + '_' + str(i)\n",
    "        labeled.append(TaggedDocument(v.split(), [label]))\n",
    "    \n",
    "    return labeled\n",
    "\n",
    "\n",
    "X_train, X_test, y_train, y_test = train_test_split(stack.post, stack.tags, random_state=0, test_size=0.3)\n",
    "\n",
    "X_train = label_sentences(X_train, 'Train')\n",
    "X_test = label_sentences(X_test, 'Test')\n",
    "all_data = X_train + X_test"
   ]
  },
  {
   "cell_type": "code",
   "execution_count": 39,
   "metadata": {},
   "outputs": [
    {
     "data": {
      "text/plain": [
       "[TaggedDocument(words=['fulltext', 'search', 'php', 'pdo', 'returning', 'result', 'searched', 'lot', 'matter', 'find', 'wrong', 'setup', 'trying', 'fulltext', 'search', 'using', 'pdo', 'php', 'get', 'results', 'error', 'messages', 'table', 'contains', 'customer', 'details', 'id', 'int', 'auto_increment', 'name', 'varchar', 'lastname', 'varchar', 'company', 'varchar', 'adress', 'varchar', 'postcode', 'int', 'city', 'varchar', 'email', 'varchar', 'phone', 'varchar', 'orgnr', 'varchar', 'timestamp', 'timestamp', 'current_timestamp', 'run', 'sqlquery', 'alter', 'table', 'system_customer', 'add', 'fulltext', 'name', 'lastname', 'except', 'columns', 'id', 'postcode', 'timestamp', 'signs', 'trouble', 'far', 'idea', 'problem', 'lies', 'db', 'configuration', 'php', 'code', 'goes', 'php', 'sth', 'dbhprepare', 'select', 'name', 'lastname', 'company', 'adress', 'city', 'phone', 'email', 'orgnr', 'db_pre', 'customer', 'match', 'name', 'lastname', 'company', 'adress', 'city', 'phone', 'email', 'orgnr', 'search', 'boolean', 'mode', 'bind', 'placeholders', 'sthbindparam', 'search', 'data', 'sthexecute', 'rows', 'sthfetchall', 'testing', 'print_r', 'dbherrorinfo', 'empty', 'rows', 'echo', 'else', 'echo', 'foreach', 'rows', 'row', 'echo', 'tr', 'datahref', 'new_orderphp', 'cid', 'row', 'id', 'echo', 'td', 'row', 'name', 'td', 'echo', 'td', 'row', 'lastname', 'td', 'echo', 'td', 'row', 'company', 'td', 'echo', 'td', 'row', 'phone', 'td', 'echo', 'td', 'row', 'email', 'td', 'echo', 'td', 'date', 'ymd', 'strtotime', 'row', 'timestamp', 'td', 'echo', 'tr', 'echo', 'tried', 'change', 'parameter', 'searchquery', 'string', 'like', 'testcompany', 'somename', 'boolean', 'mode', 'also', 'read', 'word', 'found', 'rows', 'counts', 'common', 'word', 'pretty', 'sure', 'case', 'uses', 'specific', 'words', 'table', 'uses', 'myisam', 'engine', 'get', 'results', 'error', 'messages', 'please', 'help', 'point', 'wrong', 'thank'], tags=['Train_0']),\n",
       " TaggedDocument(words=['select', 'everything', 'table', 'x', 'rows', 'another', 'im', 'making', 'join', 'query', 'like', 'select', 'clothes', 'c', 'join', 'style', 'cstyleid', 'ssylelid', 'clothesid', 'dont', 'want', 'select', 'everything', 'style', 'want', 'select', 'everything', 'clothes', 'rows', 'select', 'row', 'style', 'easyest', 'way', 'without', 'select', 'every', 'row', 'clothes', 'things', 'select', 'like', 'select', 'cid', 'cdescription', 'cname', 'csize', 'cbrand', 'sname', 'clothes', 'c', 'join', 'style', 'cstyleid', 'stsylelid', 'clothesid', 'would', 'fastest', 'way', 'possibillity'], tags=['Train_1'])]"
      ]
     },
     "execution_count": 39,
     "metadata": {},
     "output_type": "execute_result"
    }
   ],
   "source": [
    "all_data[:2]"
   ]
  },
  {
   "cell_type": "code",
   "execution_count": 40,
   "metadata": {},
   "outputs": [
    {
     "name": "stderr",
     "output_type": "stream",
     "text": [
      "100%|███████████████████████████████████████████████████████████████████████| 40000/40000 [00:00<00:00, 3635681.53it/s]\n",
      "100%|███████████████████████████████████████████████████████████████████████| 40000/40000 [00:00<00:00, 4456099.87it/s]\n",
      "100%|███████████████████████████████████████████████████████████████████████| 40000/40000 [00:00<00:00, 4456810.12it/s]\n",
      "100%|███████████████████████████████████████████████████████████████████████| 40000/40000 [00:00<00:00, 4456573.34it/s]\n",
      "100%|███████████████████████████████████████████████████████████████████████| 40000/40000 [00:00<00:00, 4010713.59it/s]\n",
      "100%|███████████████████████████████████████████████████████████████████████| 40000/40000 [00:00<00:00, 4456573.34it/s]\n",
      "100%|███████████████████████████████████████████████████████████████████████| 40000/40000 [00:00<00:00, 4013880.09it/s]\n",
      "100%|███████████████████████████████████████████████████████████████████████| 40000/40000 [00:00<00:00, 4010809.47it/s]\n",
      "100%|███████████████████████████████████████████████████████████████████████| 40000/40000 [00:00<00:00, 4456099.87it/s]\n",
      "100%|███████████████████████████████████████████████████████████████████████| 40000/40000 [00:00<00:00, 4010905.35it/s]\n",
      "100%|███████████████████████████████████████████████████████████████████████| 40000/40000 [00:00<00:00, 4443589.36it/s]\n",
      "100%|███████████████████████████████████████████████████████████████████████| 40000/40000 [00:00<00:00, 4000194.56it/s]\n",
      "100%|███████████████████████████████████████████████████████████████████████| 40000/40000 [00:00<00:00, 4456573.34it/s]\n",
      "100%|███████████████████████████████████████████████████████████████████████| 40000/40000 [00:00<00:00, 4010905.35it/s]\n",
      "100%|███████████████████████████████████████████████████████████████████████| 40000/40000 [00:00<00:00, 4010521.84it/s]\n",
      "100%|███████████████████████████████████████████████████████████████████████| 40000/40000 [00:00<00:00, 4456336.59it/s]\n",
      "100%|███████████████████████████████████████████████████████████████████████| 40000/40000 [00:00<00:00, 4456810.12it/s]\n",
      "100%|███████████████████████████████████████████████████████████████████████| 40000/40000 [00:00<00:00, 4011960.40it/s]\n",
      "100%|███████████████████████████████████████████████████████████████████████| 40000/40000 [00:00<00:00, 4456336.59it/s]\n",
      "100%|███████████████████████████████████████████████████████████████████████| 40000/40000 [00:00<00:00, 4010234.25it/s]\n",
      "100%|███████████████████████████████████████████████████████████████████████| 40000/40000 [00:00<00:00, 4456454.96it/s]\n",
      "100%|███████████████████████████████████████████████████████████████████████| 40000/40000 [00:00<00:00, 4010521.84it/s]\n",
      "100%|███████████████████████████████████████████████████████████████████████| 40000/40000 [00:00<00:00, 4010809.47it/s]\n",
      "100%|███████████████████████████████████████████████████████████████████████| 40000/40000 [00:00<00:00, 4442883.32it/s]\n",
      "100%|███████████████████████████████████████████████████████████████████████| 40000/40000 [00:00<00:00, 4456928.51it/s]\n",
      "100%|███████████████████████████████████████████████████████████████████████| 40000/40000 [00:00<00:00, 4010809.47it/s]\n",
      "100%|███████████████████████████████████████████████████████████████████████| 40000/40000 [00:00<00:00, 4456099.87it/s]\n",
      "100%|███████████████████████████████████████████████████████████████████████| 40000/40000 [00:00<00:00, 4456336.59it/s]\n",
      "100%|███████████████████████████████████████████████████████████████████████| 40000/40000 [00:00<00:00, 4010617.71it/s]\n",
      "100%|███████████████████████████████████████████████████████████████████████| 40000/40000 [00:00<00:00, 4010809.47it/s]\n",
      "100%|███████████████████████████████████████████████████████████████████████| 40000/40000 [00:00<00:00, 4449835.82it/s]\n"
     ]
    }
   ],
   "source": [
    "model_dbow = Doc2Vec(dm=0, vector_size=300, negative=5, min_count=1, alpha=0.065, min_alpha=0.065)\n",
    "model_dbow.build_vocab([x for x in tqdm(all_data)])\n",
    "\n",
    "for epoch in range(30):\n",
    "    model_dbow.train(utils.shuffle([x for x in tqdm(all_data)]), total_examples=len(all_data), epochs=1)\n",
    "    model_dbow.alpha -= 0.002\n",
    "    model_dbow.min_alpha = model_dbow.alpha"
   ]
  },
  {
   "cell_type": "code",
   "execution_count": 41,
   "metadata": {},
   "outputs": [],
   "source": [
    "import numpy as np\n",
    "def get_vectors(model, corpus_size, vectors_size, vectors_type):\n",
    "    \"\"\"\n",
    "    Get vectors from trained doc2vec model\n",
    "    :param doc2vec_model: Trained Doc2Vec model\n",
    "    :param corpus_size: Size of the data\n",
    "    :param vectors_size: Size of the embedding vectors\n",
    "    :param vectors_type: Training or Testing vectors\n",
    "    :return: list of vectors\n",
    "    \"\"\"\n",
    "    vectors = np.zeros((corpus_size, vectors_size))\n",
    "    for i in range(0, corpus_size):\n",
    "        prefix = vectors_type + '_' + str(i)\n",
    "        vectors[i] = model.docvecs[prefix]\n",
    "    return vectors\n",
    "    \n",
    "train_vectors_dbow = get_vectors(model_dbow, len(X_train), 300, 'Train')\n",
    "test_vectors_dbow = get_vectors(model_dbow, len(X_test), 300, 'Test')"
   ]
  },
  {
   "cell_type": "code",
   "execution_count": 42,
   "metadata": {},
   "outputs": [
    {
     "name": "stderr",
     "output_type": "stream",
     "text": [
      "C:\\ProgramData\\Anaconda3\\lib\\site-packages\\sklearn\\linear_model\\_logistic.py:940: ConvergenceWarning: lbfgs failed to converge (status=1):\n",
      "STOP: TOTAL NO. of ITERATIONS REACHED LIMIT.\n",
      "\n",
      "Increase the number of iterations (max_iter) or scale the data as shown in:\n",
      "    https://scikit-learn.org/stable/modules/preprocessing.html\n",
      "Please also refer to the documentation for alternative solver options:\n",
      "    https://scikit-learn.org/stable/modules/linear_model.html#logistic-regression\n",
      "  extra_warning_msg=_LOGISTIC_SOLVER_CONVERGENCE_MSG)\n",
      "C:\\ProgramData\\Anaconda3\\lib\\site-packages\\sklearn\\linear_model\\_logistic.py:940: ConvergenceWarning: lbfgs failed to converge (status=1):\n",
      "STOP: TOTAL NO. of ITERATIONS REACHED LIMIT.\n",
      "\n",
      "Increase the number of iterations (max_iter) or scale the data as shown in:\n",
      "    https://scikit-learn.org/stable/modules/preprocessing.html\n",
      "Please also refer to the documentation for alternative solver options:\n",
      "    https://scikit-learn.org/stable/modules/linear_model.html#logistic-regression\n",
      "  extra_warning_msg=_LOGISTIC_SOLVER_CONVERGENCE_MSG)\n"
     ]
    },
    {
     "name": "stdout",
     "output_type": "stream",
     "text": [
      "accuracy 0.8051666666666667\n",
      "              precision    recall  f1-score   support\n",
      "\n",
      "           0       0.67      0.67      0.67       589\n",
      "           1       0.90      0.91      0.90       661\n",
      "           2       0.95      0.93      0.94       606\n",
      "           3       0.79      0.79      0.79       613\n",
      "           4       0.85      0.90      0.87       601\n",
      "           5       0.71      0.69      0.70       585\n",
      "           6       0.87      0.81      0.84       621\n",
      "           7       0.81      0.83      0.82       587\n",
      "           8       0.67      0.67      0.67       560\n",
      "           9       0.69      0.66      0.68       611\n",
      "          10       0.68      0.67      0.68       593\n",
      "          11       0.79      0.86      0.83       581\n",
      "          12       0.80      0.74      0.77       608\n",
      "          13       0.84      0.84      0.84       593\n",
      "          14       0.85      0.81      0.83       592\n",
      "          15       0.71      0.69      0.70       597\n",
      "          16       0.84      0.86      0.85       604\n",
      "          17       0.92      0.93      0.93       610\n",
      "          18       0.93      0.95      0.94       595\n",
      "          19       0.80      0.87      0.83       593\n",
      "\n",
      "    accuracy                           0.81     12000\n",
      "   macro avg       0.80      0.80      0.80     12000\n",
      "weighted avg       0.80      0.81      0.80     12000\n",
      "\n"
     ]
    }
   ],
   "source": [
    "logreg = LogisticRegression(n_jobs=1, C=1e5)\n",
    "logreg.fit(train_vectors_dbow, y_train)\n",
    "logreg = logreg.fit(train_vectors_dbow, y_train)\n",
    "y_pred = logreg.predict(test_vectors_dbow)\n",
    "print('accuracy %s' % accuracy_score(y_pred, y_test))\n",
    "print(classification_report(y_test, y_pred))"
   ]
  },
  {
   "cell_type": "code",
   "execution_count": 43,
   "metadata": {},
   "outputs": [
    {
     "name": "stdout",
     "output_type": "stream",
     "text": [
      "accuracy 0.5880833333333333\n",
      "              precision    recall  f1-score   support\n",
      "\n",
      "           0       0.43      0.51      0.46       589\n",
      "           1       0.74      0.71      0.72       661\n",
      "           2       0.72      0.80      0.76       606\n",
      "           3       0.56      0.54      0.55       613\n",
      "           4       0.61      0.78      0.69       601\n",
      "           5       0.43      0.36      0.39       585\n",
      "           6       0.63      0.50      0.56       621\n",
      "           7       0.60      0.84      0.70       587\n",
      "           8       0.46      0.42      0.44       560\n",
      "           9       0.44      0.44      0.44       611\n",
      "          10       0.45      0.50      0.47       593\n",
      "          11       0.61      0.55      0.58       581\n",
      "          12       0.56      0.40      0.46       608\n",
      "          13       0.61      0.59      0.60       593\n",
      "          14       0.57      0.63      0.60       592\n",
      "          15       0.50      0.44      0.47       597\n",
      "          16       0.71      0.55      0.62       604\n",
      "          17       0.74      0.77      0.76       610\n",
      "          18       0.81      0.79      0.80       595\n",
      "          19       0.57      0.64      0.61       593\n",
      "\n",
      "    accuracy                           0.59     12000\n",
      "   macro avg       0.59      0.59      0.58     12000\n",
      "weighted avg       0.59      0.59      0.58     12000\n",
      "\n"
     ]
    }
   ],
   "source": [
    "model = RandomForestClassifier()\n",
    "model = model.fit(train_vectors_dbow, y_train)\n",
    "y_pred = model.predict(test_vectors_dbow)\n",
    "print('accuracy %s' % accuracy_score(y_pred, y_test))\n",
    "print(classification_report(y_test, y_pred))"
   ]
  },
  {
   "cell_type": "code",
   "execution_count": 44,
   "metadata": {},
   "outputs": [
    {
     "name": "stdout",
     "output_type": "stream",
     "text": [
      "accuracy 0.20225\n",
      "              precision    recall  f1-score   support\n",
      "\n",
      "           0       0.16      0.18      0.17       589\n",
      "           1       0.24      0.21      0.22       661\n",
      "           2       0.23      0.21      0.22       606\n",
      "           3       0.22      0.21      0.22       613\n",
      "           4       0.24      0.25      0.25       601\n",
      "           5       0.13      0.14      0.14       585\n",
      "           6       0.24      0.20      0.22       621\n",
      "           7       0.29      0.29      0.29       587\n",
      "           8       0.12      0.14      0.13       560\n",
      "           9       0.20      0.21      0.21       611\n",
      "          10       0.21      0.21      0.21       593\n",
      "          11       0.15      0.15      0.15       581\n",
      "          12       0.15      0.16      0.15       608\n",
      "          13       0.18      0.18      0.18       593\n",
      "          14       0.25      0.26      0.25       592\n",
      "          15       0.18      0.19      0.19       597\n",
      "          16       0.17      0.18      0.18       604\n",
      "          17       0.24      0.23      0.23       610\n",
      "          18       0.23      0.21      0.22       595\n",
      "          19       0.25      0.23      0.24       593\n",
      "\n",
      "    accuracy                           0.20     12000\n",
      "   macro avg       0.20      0.20      0.20     12000\n",
      "weighted avg       0.20      0.20      0.20     12000\n",
      "\n"
     ]
    }
   ],
   "source": [
    "model = DecisionTreeClassifier()\n",
    "model = model.fit(train_vectors_dbow, y_train)\n",
    "y_pred = model.predict(test_vectors_dbow)\n",
    "print('accuracy %s' % accuracy_score(y_pred, y_test))\n",
    "print(classification_report(y_test, y_pred))"
   ]
  },
  {
   "cell_type": "code",
   "execution_count": 45,
   "metadata": {},
   "outputs": [
    {
     "name": "stdout",
     "output_type": "stream",
     "text": [
      "accuracy 0.7145\n",
      "              precision    recall  f1-score   support\n",
      "\n",
      "           0       0.41      0.68      0.51       589\n",
      "           1       0.94      0.70      0.80       661\n",
      "           2       0.91      0.87      0.89       606\n",
      "           3       0.80      0.60      0.68       613\n",
      "           4       0.82      0.83      0.83       601\n",
      "           5       0.63      0.60      0.61       585\n",
      "           6       0.79      0.73      0.76       621\n",
      "           7       0.79      0.82      0.80       587\n",
      "           8       0.58      0.64      0.61       560\n",
      "           9       0.57      0.41      0.48       611\n",
      "          10       0.36      0.61      0.45       593\n",
      "          11       0.84      0.71      0.77       581\n",
      "          12       0.78      0.66      0.72       608\n",
      "          13       0.80      0.74      0.77       593\n",
      "          14       0.76      0.73      0.75       592\n",
      "          15       0.64      0.62      0.63       597\n",
      "          16       0.85      0.82      0.83       604\n",
      "          17       0.93      0.89      0.91       610\n",
      "          18       0.91      0.85      0.88       595\n",
      "          19       0.70      0.77      0.73       593\n",
      "\n",
      "    accuracy                           0.71     12000\n",
      "   macro avg       0.74      0.71      0.72     12000\n",
      "weighted avg       0.74      0.71      0.72     12000\n",
      "\n"
     ]
    }
   ],
   "source": [
    "model = GaussianNB()\n",
    "model = model.fit(train_vectors_dbow, y_train)\n",
    "y_pred = model.predict(test_vectors_dbow)\n",
    "print('accuracy %s' % accuracy_score(y_pred, y_test))\n",
    "print(classification_report(y_test, y_pred))"
   ]
  },
  {
   "cell_type": "code",
   "execution_count": 46,
   "metadata": {},
   "outputs": [
    {
     "name": "stdout",
     "output_type": "stream",
     "text": [
      "accuracy 0.5023333333333333\n",
      "              precision    recall  f1-score   support\n",
      "\n",
      "           0       0.22      0.82      0.35       589\n",
      "           1       0.71      0.67      0.69       661\n",
      "           2       0.90      0.43      0.58       606\n",
      "           3       0.43      0.47      0.45       613\n",
      "           4       0.65      0.72      0.69       601\n",
      "           5       0.42      0.29      0.35       585\n",
      "           6       0.74      0.35      0.48       621\n",
      "           7       0.65      0.78      0.71       587\n",
      "           8       0.39      0.47      0.43       560\n",
      "           9       0.54      0.24      0.33       611\n",
      "          10       0.31      0.72      0.44       593\n",
      "          11       0.60      0.34      0.43       581\n",
      "          12       0.60      0.26      0.37       608\n",
      "          13       0.71      0.33      0.45       593\n",
      "          14       0.70      0.43      0.53       592\n",
      "          15       0.39      0.46      0.42       597\n",
      "          16       0.85      0.34      0.49       604\n",
      "          17       0.84      0.54      0.66       610\n",
      "          18       0.93      0.57      0.71       595\n",
      "          19       0.53      0.81      0.64       593\n",
      "\n",
      "    accuracy                           0.50     12000\n",
      "   macro avg       0.61      0.50      0.51     12000\n",
      "weighted avg       0.61      0.50      0.51     12000\n",
      "\n"
     ]
    }
   ],
   "source": [
    "model = KNeighborsClassifier()\n",
    "model = model.fit(train_vectors_dbow, y_train)\n",
    "y_pred = model.predict(test_vectors_dbow)\n",
    "print('accuracy %s' % accuracy_score(y_pred, y_test))\n",
    "print(classification_report(y_test, y_pred))"
   ]
  },
  {
   "cell_type": "code",
   "execution_count": null,
   "metadata": {},
   "outputs": [],
   "source": []
  }
 ],
 "metadata": {
  "kernelspec": {
   "display_name": "Python 3",
   "language": "python",
   "name": "python3"
  },
  "language_info": {
   "codemirror_mode": {
    "name": "ipython",
    "version": 3
   },
   "file_extension": ".py",
   "mimetype": "text/x-python",
   "name": "python",
   "nbconvert_exporter": "python",
   "pygments_lexer": "ipython3",
   "version": "3.7.3"
  }
 },
 "nbformat": 4,
 "nbformat_minor": 2
}
